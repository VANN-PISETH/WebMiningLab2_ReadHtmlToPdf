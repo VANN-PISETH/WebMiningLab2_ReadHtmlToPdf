{
 "cells": [
  {
   "cell_type": "code",
   "execution_count": null,
   "id": "d469f923-2b8f-4d14-9e29-9f3abcf0d07a",
   "metadata": {},
   "outputs": [],
   "source": [
    "import pdfkit\n",
    "\n",
    "config = pdfkit.configuration(wkhtmltopdf=r\"C:\\Program Files\\wkhtmltopdf\\bin\\wkhtmltopdf.exe\")\n",
    "\n",
    "html_file = r\"D:\\Data Science\\Year2\\Semester1\\Web Mining\\Lab2\\sample1.html\"\n",
    "pdf_file = r\"D:\\Data Science\\Year2\\Semester1\\Web Mining\\Lab2\\outputhtml.pdf\"\n",
    "\n",
    "pdfkit.from_file(html_file, pdf_file, options={\"enable-local-file-access\": \"\"}, configuration=config)\n",
    "\n",
    "print(f\"PDF successfully saved as {pdf_file}\")"
   ]
  }
 ],
 "metadata": {
  "kernelspec": {
   "display_name": "Python 3 (ipykernel)",
   "language": "python",
   "name": "python3"
  },
  "language_info": {
   "codemirror_mode": {
    "name": "ipython",
    "version": 3
   },
   "file_extension": ".py",
   "mimetype": "text/x-python",
   "name": "python",
   "nbconvert_exporter": "python",
   "pygments_lexer": "ipython3",
   "version": "3.12.2"
  }
 },
 "nbformat": 4,
 "nbformat_minor": 5
}
